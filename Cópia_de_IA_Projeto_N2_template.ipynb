{
  "nbformat": 4,
  "nbformat_minor": 0,
  "metadata": {
    "kernelspec": {
      "display_name": "Python 3",
      "language": "python",
      "name": "python3"
    },
    "language_info": {
      "codemirror_mode": {
        "name": "ipython",
        "version": 3
      },
      "file_extension": ".py",
      "mimetype": "text/x-python",
      "name": "python",
      "nbconvert_exporter": "python",
      "pygments_lexer": "ipython3",
      "version": "3.7.4"
    },
    "colab": {
      "name": "Cópia de IA_Projeto_N2_template.ipynb",
      "provenance": [],
      "collapsed_sections": [],
      "include_colab_link": true
    }
  },
  "cells": [
    {
      "cell_type": "markdown",
      "metadata": {
        "id": "view-in-github",
        "colab_type": "text"
      },
      "source": [
        "<a href=\"https://colab.research.google.com/github/luanabr/Github/blob/main/C%C3%B3pia_de_IA_Projeto_N2_template.ipynb\" target=\"_parent\"><img src=\"https://colab.research.google.com/assets/colab-badge.svg\" alt=\"Open In Colab\"/></a>"
      ]
    },
    {
      "cell_type": "markdown",
      "metadata": {
        "id": "40b90843"
      },
      "source": [
        "<img src=\"http://meusite.mackenzie.br/rogerio/mackenzie_logo/UPM.2_horizontal_vermelho.jpg\"  width=300, align=\"right\">\n",
        "<br>\n",
        "<br>\n",
        "<br>\n",
        "<br>\n",
        "<br>\n",
        "\n",
        "# ***Detecção de Fraudes em Pagamentos Online***\n",
        "---"
      ]
    },
    {
      "cell_type": "markdown",
      "source": [
        "*Siga esse template para entrega do seu projeto. O código deste notebook precisa ser 100% executável.*"
      ],
      "metadata": {
        "id": "Ikv-pBzr9bNu"
      }
    },
    {
      "cell_type": "code",
      "metadata": {
        "id": "rYx9D4GZA5o9",
        "cellView": "form"
      },
      "source": [
        ""
      ],
      "execution_count": null,
      "outputs": []
    },
    {
      "cell_type": "markdown",
      "source": [
        "# **Apresentação**"
      ],
      "metadata": {
        "id": "JlCIc2YooBW7"
      }
    },
    {
      "cell_type": "markdown",
      "source": [
        ""
      ],
      "metadata": {
        "id": "S0LU1PGcJu0Q"
      }
    },
    {
      "cell_type": "code",
      "metadata": {
        "cellView": "form",
        "id": "2budJFz0J6av"
      },
      "source": [
        "#@title Identificação do Grupo\n",
        "\n",
        "#@markdown Turma **7N**\n",
        "\n",
        "#@markdown Integrantes do Grupo (*informe \\<TIA\\>,\\<nome\\>*)\n",
        "Aluno1 = '31660444, Erk Costa Souza' #@param {type:\"string\"} \n",
        "Aluno2 = '31945325, Luana Brugnaro de Souza Braga' #@param {type:\"string\"}\n",
        "Aluno3 = 'None' #@param {type:\"string\"}\n",
        "Aluno4 = 'None' #@param {type:\"string\"}\n",
        "Aluno5 = 'None' #@param {type:\"string\"}\n",
        "\n"
      ],
      "execution_count": null,
      "outputs": []
    },
    {
      "cell_type": "markdown",
      "metadata": {
        "id": "A4-f8AtfKAn2"
      },
      "source": [
        "# Problema\n",
        "\n",
        "*Fraudes online estão se tornando cada vez mais comuns e uma simples transação ou pagamento online pode gerar muitos problemas, principalmente com o número de e-commerces crescendo a cada dia. A Inteligência Artificial pode ajudar na análise das fraudes cometidas e fazer previsões pra evitar isso. O objetivo desse trabalho é usar a Árvore de Decisão e a Regressão Logística (modelos de classificação) no dataset, que inclui dados de hora em hora, os tipos de transação online, a quantidade de transações, entre outros dados.*\n",
        "\n"
      ]
    },
    {
      "cell_type": "markdown",
      "source": [
        "# Referencial Teórico\n",
        "\n",
        "  De acordo com um trabalho de mestrado do Instituto Universitário de Lisboa, o combate à fraude é um trabalho que explora de forma crescente o fenômeno da digitalização do mercado e o aumento da quantidade de dados produzidos diariamente. Os fraudadores atacam as vulnerabilidades existentes em diversas tecnologias e operam de forma a tentar não deixar visíveis os rastros de suas ações. Por sua vez, os responsáveis pela detecção das fraudes são levados a utilizar os recursos tecnológicos mais modernos, como por exemplo as imensas quantidades e variedades de dados geridos por sistemas de Big Data, como também as capacidades das ferramentas e técnicas de Data Mining (DM), para detectar as fraudes de forma precisa e veloz.\n",
        "\n",
        "  Sobre a definição de fraude e seus impactos no comércio eletrônico, Lucas de Mattos fala:\n",
        "  \n",
        "  *\"Segundo o dicionário Aurélio, fraude é o ato de lograr, falsificar produtos, documentos, marcas, etc. Qualquer ação ilícita, desonesta, ardilosa que busca enganar ou ludibriar alguém. No contexto deste trabalho e do comércio eletrônico, esses atos podem estar relacionados com a realização e compras não-identificadas por parte de usuários legítimos, clonagem de cartões de crédito, prática de cartel de preços feitos pelos comerciantes, roubos de contas de usuários, utilização dos sites de maneira indevida, entre outros. Segundo uma pesquisa realizada pela AgênciaSenado (2021) a prática de fraudes em pagamentos online já gerou prejuízos ao Brasil de aproximadamente R$ 1 bilhão, além de perdas de poder aquisitivo e abalos emocionais às famílias brasileiras. Foi proposto ao Senado Nacional alterações no Código Penal para fixar a pena de reclusão de quatro a oito anos ao criminoso que praticar fraude por meio de dispositivo eletrônico ou de informática, conectado ou não à internet, com ou sem a violação de mecanismo de segurança, ou com utilização de programa malicioso.\"(DE MATTOS, LUCAS, 2021, p.14)* "
      ],
      "metadata": {
        "id": "7LtXrRFr4hg3"
      }
    },
    {
      "cell_type": "markdown",
      "metadata": {
        "id": "7-pdJIiunIWL"
      },
      "source": [
        "# Metodologia \n",
        "\n",
        "*Para este trabalho foi obtido um dataset contendo os dados das transações online de hora em hora, que foram obtidas por meio de um repositório público chamado Kaggle, no qual os dados foram tratados e explorados e foram usados os modelos de Árvore de Decisão e Regressão Logística como modelos de classificação.*\n"
      ]
    },
    {
      "cell_type": "markdown",
      "source": [
        "# Resultados\n",
        "\n",
        "*A acurácia da Regressão Logística foi um pouco melhor e o algoritmo mais eficiente do que a acurácia da Árvore de Decisão, apesar de não ter dado uma diferença significativa. A acurácia da Árvore de Decisão deu 0,9987 e a acurácia da Regressão Logística deu 0,9989 para esse dataset em específico.* "
      ],
      "metadata": {
        "id": "ZGpU-v6CnTaG"
      }
    },
    {
      "cell_type": "markdown",
      "source": [
        "# **Implementação**"
      ],
      "metadata": {
        "id": "caAD2jBEn0KM"
      }
    },
    {
      "cell_type": "code",
      "source": [
        ""
      ],
      "metadata": {
        "id": "IuDG1nAKZIb1"
      },
      "execution_count": null,
      "outputs": []
    },
    {
      "cell_type": "markdown",
      "metadata": {
        "id": "xGFJyOm1Kdtd"
      },
      "source": [
        "# Base de Dados \n",
        "\n",
        "*Descreva aqui os dados utilizados, discuta eventuais transformações e/ou seleções dos dados e preparações nos dados.* \n",
        "\n",
        "\n"
      ]
    },
    {
      "cell_type": "code",
      "source": [
        "#iMPORTANDO Dependecias \n",
        "#Moldoelo escolhido 1 -> Árvores de Decisão\n",
        "from sklearn.tree import DecisionTreeClassifier\n",
        "#Moldoelo escolhido 2 -> Regressão logística\n",
        "from sklearn.linear_model import LogisticRegression\n",
        "\n",
        "from sklearn.metrics import accuracy_score\n",
        "from sklearn.model_selection import train_test_split\n",
        "from sklearn.preprocessing import LabelEncoder\n",
        "import pandas as pd\n",
        "\n",
        "#DATA SET Cyber defence fraude cartão de credito \n",
        "df=pd.read_csv('https://raw.githubusercontent.com/ErikCostaSouza/ia_p2/main/Data_set_cyberDefence_resumido_2.csv')"
      ],
      "metadata": {
        "id": "V_X2jqpl3UWA"
      },
      "execution_count": null,
      "outputs": []
    },
    {
      "cell_type": "markdown",
      "source": [
        "## Modelo 1 - árvore de decisão\n",
        "\n",
        "*Uma árvore de decisão é um algoritmo de aprendizado de máquina supervisionado que é utilizado para classificação e para regressão. Isto é, pode ser usado para prever categorias discretas (sim ou não, por exemplo) e para prever valores numéricos (o valor do lucro em reais).*\n"
      ],
      "metadata": {
        "id": "FGwyFHwtoO5m"
      }
    },
    {
      "cell_type": "markdown",
      "source": [
        "### **Modelo 1:** Preparação dos Dados\n"
      ],
      "metadata": {
        "id": "hXaglI6JoaJO"
      }
    },
    {
      "cell_type": "code",
      "source": [
        "#Exploração e tratamento de dados \n",
        "\n",
        "df.drop(['nameOrig','nameDest'],axis=1,inplace=True)\n",
        "df.columns\n",
        "la=LabelEncoder()\n",
        "df['type']=la.fit_transform(df['type'])\n",
        "X=df.drop('isFraud',axis=1)\n",
        "y=df['isFraud']\n",
        "la=LabelEncoder()\n",
        "df['type']=la.fit_transform(df['type'])\n",
        "\n",
        "X_train,X_test,y_train,y_test=train_test_split(X,y,random_state=0,test_size=0.2)"
      ],
      "metadata": {
        "id": "-8gSVEHyoeLK"
      },
      "execution_count": null,
      "outputs": []
    },
    {
      "cell_type": "markdown",
      "source": [
        "### **Modelo 1:** Modelo\n"
      ],
      "metadata": {
        "id": "VyE3YKdQotLc"
      }
    },
    {
      "cell_type": "code",
      "source": [
        "# Árvores de Decisão\n",
        "\n",
        "clf = DecisionTreeClassifier()\n",
        "clf.fit(X_train, y_train) \n",
        "pred=clf.predict(X_test)\n",
        "accuracy=accuracy_score(y_test,pred)"
      ],
      "metadata": {
        "id": "a5YneTsaotLc"
      },
      "execution_count": null,
      "outputs": []
    },
    {
      "cell_type": "markdown",
      "source": [
        "### **Modelo 1:** Resultados\n"
      ],
      "metadata": {
        "id": "SRw3t2NnotVI"
      }
    },
    {
      "cell_type": "code",
      "source": [
        "print(\"Acuracia Arvore de desisão:{0:.4f}\".format(accuracy))"
      ],
      "metadata": {
        "id": "kvwQvGDOotVI",
        "colab": {
          "base_uri": "https://localhost:8080/"
        },
        "outputId": "5d05e1a1-c2d1-445d-9ae9-911cb7c11ce0"
      },
      "execution_count": null,
      "outputs": [
        {
          "output_type": "stream",
          "name": "stdout",
          "text": [
            "Acuracia Arvore de desisão:0.9987\n"
          ]
        }
      ]
    },
    {
      "cell_type": "markdown",
      "source": [
        "\n",
        "\n",
        "```\n",
        "# Isto está formatado como código\n",
        "```\n",
        "\n",
        "## **Modelo 2 - Regressão logística**\n",
        "\n",
        "Regressão logística pode ser definido como uma técnica estatística que busca produzir (usando um conjunto de observações) um modelo que possibilita predizer os valores tomados por uma variável categórica. Traduzindo isso pra uma linguagem mais simples, podemos dizer que a regressão logística é parecido com a regressão linear, no entanto, quando falamos de regressão linear o valor de Y assume um valor específico, já na regressão logística temos a variável Y assumindo um valor Binário (0 – fracasso / 1 – sucesso). Essa técnica é recomendada para situações onde a variável dependente é binária.\n",
        "\n",
        "Portanto, podemos concluir que Regressão Logística busca estimar a probabilidade da variável dependente assumir um determinado valor em função dos outros valores\n"
      ],
      "metadata": {
        "id": "n6sOVE9jo_jq"
      }
    },
    {
      "cell_type": "markdown",
      "source": [
        "### **Modelo 2:** Preparação dos Dados\n"
      ],
      "metadata": {
        "id": "lBW3929po_jr"
      }
    },
    {
      "cell_type": "code",
      "source": [
        "#Exploração e tratamento de dados \n",
        "\n",
        "#Já foi feito no modelo 01 "
      ],
      "metadata": {
        "id": "VfJUfM16o_jr"
      },
      "execution_count": null,
      "outputs": []
    },
    {
      "cell_type": "markdown",
      "source": [
        "### **Modelo 2:** Modelo\n"
      ],
      "metadata": {
        "id": "z60H0esCo_jr"
      }
    },
    {
      "cell_type": "code",
      "source": [
        "#LogisticRegression\n",
        "\n",
        "lr_clf=LogisticRegression()\n",
        "lr_clf.fit(X_train,y_train)\n",
        "lr_pred=lr_clf.predict(X_test)\n",
        "\n"
      ],
      "metadata": {
        "id": "GzbajY4fo_jr"
      },
      "execution_count": null,
      "outputs": []
    },
    {
      "cell_type": "markdown",
      "source": [
        "### **Modelo 2:** Resultados\n"
      ],
      "metadata": {
        "id": "f66UTm3So_js"
      }
    },
    {
      "cell_type": "code",
      "source": [
        "print(\"Acuracia  Regressão Logistica: {:0.4f}\".format(accuracy_score(y_test,lr_pred)))"
      ],
      "metadata": {
        "id": "PJGbWBofo_jt",
        "colab": {
          "base_uri": "https://localhost:8080/"
        },
        "outputId": "625c867d-8783-4a39-b56e-85d0ce77e792"
      },
      "execution_count": null,
      "outputs": [
        {
          "output_type": "stream",
          "name": "stdout",
          "text": [
            "Acuracia  Regressão Logistica: 0.9989\n"
          ]
        }
      ]
    },
    {
      "cell_type": "markdown",
      "metadata": {
        "id": "9kwoGZeSLRsX"
      },
      "source": [
        "# **Conclusão** \n",
        "\n",
        "*Sendo assim, apesar dos resultados de acurácia terem sido muito positivos e muito próximos entre si(0,9987 da Árvore de Decisão e 0,9989 da Regressão Logística), ainda se faz necessário uma tecnologia moderna para poder prever essas fraudes o mais rápido possível e formas mais eficientes para evitar ao máximo que isso aconteça*\n",
        "\n"
      ]
    },
    {
      "cell_type": "markdown",
      "source": [
        "# **Referências** \n",
        "\n",
        "*Neto, A. I. do B. A. (2021). Previsão automática de fraude em transações financeiras [Dissertação de mestrado, Iscte - Instituto Universitário de Lisboa]. Repositório do Iscte. http://hdl.handle.net/10071/23741*\n",
        "\n",
        "*Mattos, Lucas de (2021). Aplicação de Técnicas de Machine Learning no apoio à detecção de fraudes em pagamentos online [Dissertação de TCC, Instituto Federal Santa Catarina]. Repositório Institucional IFSC. https://repositorio.ifsc.edu.br/handle/123456789/2502*"
      ],
      "metadata": {
        "id": "hc0rg9YSzRz9"
      }
    },
    {
      "cell_type": "markdown",
      "metadata": {
        "id": "8crUBC3IQ3U_"
      },
      "source": [
        "---"
      ]
    },
    {
      "cell_type": "code",
      "metadata": {
        "id": "BluFtfHuCGzm",
        "cellView": "form"
      },
      "source": [
        ""
      ],
      "execution_count": null,
      "outputs": []
    },
    {
      "cell_type": "code",
      "metadata": {
        "id": "2Gqw7hUZHyle",
        "cellView": "form"
      },
      "source": [
        ""
      ],
      "execution_count": null,
      "outputs": []
    }
  ]
}